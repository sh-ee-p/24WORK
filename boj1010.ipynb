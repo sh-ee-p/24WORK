{
 "cells": [
  {
   "cell_type": "raw",
   "id": "db856a5b-6142-4636-aca8-95520a2a7915",
   "metadata": {},
   "source": [
    "m이 n보다 크기 때문에 최대 연결 가능한 다리의 개수는 n개이다.\n",
    "m개의 지역에 n개의 다리를 놓을 수 있는 경우의 수를 구하는 것이므로 mCn으로 나타낼 수 있다.(m!/((m-n)!n!))"
   ]
  },
  {
   "cell_type": "code",
   "execution_count": 7,
   "id": "68144ad2-48a3-4a46-b333-a3e5714cad51",
   "metadata": {},
   "outputs": [
    {
     "name": "stdin",
     "output_type": "stream",
     "text": [
      " 3\n",
      " 2 2\n"
     ]
    },
    {
     "name": "stdout",
     "output_type": "stream",
     "text": [
      "1\n"
     ]
    },
    {
     "name": "stdin",
     "output_type": "stream",
     "text": [
      " 1 5\n"
     ]
    },
    {
     "name": "stdout",
     "output_type": "stream",
     "text": [
      "5\n"
     ]
    },
    {
     "name": "stdin",
     "output_type": "stream",
     "text": [
      " 13 29\n"
     ]
    },
    {
     "name": "stdout",
     "output_type": "stream",
     "text": [
      "67863915\n"
     ]
    }
   ],
   "source": [
    "# 테스트 케이스\n",
    "a = int(input())\n",
    "\n",
    "# 팩토리얼 함수를 사용자 지정 함수로 만든 경우\n",
    "def ft(a):\n",
    "    s = 1\n",
    "    for j in range(1, a+1):\n",
    "        s *= j\n",
    "    return s\n",
    "\n",
    "for i in range(a):\n",
    "    n,m = map(int, input().split()) # 13, 29라고 하자\n",
    "    print(ft(m) // (ft(m-n) * ft(n)))"
   ]
  },
  {
   "cell_type": "code",
   "execution_count": 6,
   "id": "00a41585-7fd3-4cd2-b65d-151856b68955",
   "metadata": {},
   "outputs": [
    {
     "name": "stdin",
     "output_type": "stream",
     "text": [
      " 3\n",
      " 2 2\n"
     ]
    },
    {
     "name": "stdout",
     "output_type": "stream",
     "text": [
      "1\n"
     ]
    },
    {
     "name": "stdin",
     "output_type": "stream",
     "text": [
      " 1 5\n"
     ]
    },
    {
     "name": "stdout",
     "output_type": "stream",
     "text": [
      "5\n"
     ]
    },
    {
     "name": "stdin",
     "output_type": "stream",
     "text": [
      " 13 29\n"
     ]
    },
    {
     "name": "stdout",
     "output_type": "stream",
     "text": [
      "67863915\n"
     ]
    }
   ],
   "source": [
    "# math.factorial을 사용한 경우\n",
    "import math\n",
    "a = int(input())\n",
    "\n",
    "for i in range(a):\n",
    "    n,m = map(int, input().split())\n",
    "    print(math.factorial(m) // (math.factorial(m-n) * math.factorial(n)))"
   ]
  },
  {
   "cell_type": "markdown",
   "id": "d37b9374-3873-4346-ac67-109601b16880",
   "metadata": {},
   "source": [
    "## 조합론\n",
    "\n",
    "수학에서 조합은 유한 개의 원소에서 주어진 수만큼의 원소들을 고르는 방법이다. 조합의 수는 이항 계수로 주어진다.\n",
    "\n",
    "### 조합\n",
    "#### 정의\n",
    "- 집합S와 자연수k가 주어졌을 때, S의 (중복 없는)k-조합은 S의 k개의 원소로 이루어진 부분집합을 일컫는다.\n",
    "- 만약 S = {s1,s2,...,sn} 가 n개 원소의 유한 집합이며, 0<=k<=n이라면, S의 k-조합의 수는 이항 계수 nCk = n!/(k!(n-k)!)와 같다."
   ]
  },
  {
   "cell_type": "markdown",
   "id": "826e4945-0b5b-4699-8b68-e8a26299853f",
   "metadata": {},
   "source": [
    "### 중복조합\n",
    "#### 정의\n",
    "- 집합 S 및 자연수 k가 주어졌다고 하자. S의 k-중복조합은 S의 원소들로 구성된, 크기 k의 중복집합이다.\n",
    "- n개 원소의 집합 S={s1,s2,...,sn}의 k-중복조합의 수는 nHk = (-1)^k * -nCk"
   ]
  }
 ],
 "metadata": {
  "kernelspec": {
   "display_name": "Python 3 (ipykernel)",
   "language": "python",
   "name": "python3"
  },
  "language_info": {
   "codemirror_mode": {
    "name": "ipython",
    "version": 3
   },
   "file_extension": ".py",
   "mimetype": "text/x-python",
   "name": "python",
   "nbconvert_exporter": "python",
   "pygments_lexer": "ipython3",
   "version": "3.10.9"
  }
 },
 "nbformat": 4,
 "nbformat_minor": 5
}
